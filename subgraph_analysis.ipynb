{
 "cells": [
  {
   "cell_type": "code",
   "execution_count": 13,
   "id": "f9607aa4",
   "metadata": {},
   "outputs": [],
   "source": [
    "import requests\n",
    "import pandas as pd\n",
    "\n",
    "pd.set_option('display.max_columns', None)\n",
    "pd.set_option('display.max_rows', 100)"
   ]
  },
  {
   "cell_type": "markdown",
   "id": "6e9bbb7d",
   "metadata": {
    "heading_collapsed": true
   },
   "source": [
    "# For normal"
   ]
  },
  {
   "cell_type": "code",
   "execution_count": 14,
   "id": "a9500ddf",
   "metadata": {
    "hidden": true
   },
   "outputs": [],
   "source": [
    "from gql import gql, Client\n",
    "from gql.transport.aiohttp import AIOHTTPTransport\n",
    "\n",
    "# Select your transport with a defined url endpoint\n",
    "transport = AIOHTTPTransport(url=\"https://countries.trevorblades.com/\")\n",
    "\n",
    "# Create a GraphQL client using the defined transport\n",
    "client = Client(transport=transport, fetch_schema_from_transport=True)\n",
    "\n",
    "# Provide a GraphQL query\n",
    "\n",
    "\n",
    "# Execute the query on the transport\n",
    "# result = client.execute(query)\n",
    "# print(result)\n"
   ]
  },
  {
   "cell_type": "markdown",
   "id": "849197d5",
   "metadata": {},
   "source": [
    "# Async for ipython"
   ]
  },
  {
   "cell_type": "code",
   "execution_count": 15,
   "id": "79aff7df",
   "metadata": {},
   "outputs": [],
   "source": [
    "import asyncio\n",
    "\n",
    "from gql import Client, gql\n",
    "from gql.transport.aiohttp import AIOHTTPTransport\n",
    "\n",
    "transport = AIOHTTPTransport(url=\"https://api.thegraph.com/subgraphs/name/connext/nxtp-matic\")"
   ]
  },
  {
   "cell_type": "markdown",
   "id": "140539c9",
   "metadata": {
    "heading_collapsed": true
   },
   "source": [
    "## Graph Queries"
   ]
  },
  {
   "cell_type": "markdown",
   "id": "7fcd82ee",
   "metadata": {
    "heading_collapsed": true,
    "hidden": true
   },
   "source": [
    "### Transactions from User"
   ]
  },
  {
   "cell_type": "code",
   "execution_count": 16,
   "id": "ebeceb60",
   "metadata": {
    "code_folding": [
     7
    ],
    "hidden": true
   },
   "outputs": [],
   "source": [
    "query = gql(\n",
    "    \"\"\"\n",
    "query GetSenderTransactions($userId: String!, $sendingChainId: BigInt!, $status: TransactionStatus) {\n",
    "  transactions(\n",
    "    where: {user: $userId, status: $status, sendingChainId: $sendingChainId}\n",
    "    orderBy: preparedBlockNumber\n",
    "    orderDirection: desc\n",
    "  ) {\n",
    "    id\n",
    "    status\n",
    "    chainId\n",
    "    preparedTimestamp\n",
    "    user {\n",
    "      id\n",
    "    }\n",
    "    router {\n",
    "      id\n",
    "    }\n",
    "    receivingChainTxManagerAddress\n",
    "    sendingAssetId\n",
    "    receivingAssetId\n",
    "    sendingChainFallback\n",
    "    receivingAddress\n",
    "    callTo\n",
    "    sendingChainId\n",
    "    receivingChainId\n",
    "    callDataHash\n",
    "    transactionId\n",
    "    amount\n",
    "    expiry\n",
    "    preparedBlockNumber\n",
    "    bidSignature\n",
    "    prepareCaller\n",
    "    fulfillCaller\n",
    "    cancelCaller\n",
    "    prepareTransactionHash\n",
    "    fulfillTransactionHash\n",
    "    cancelTransactionHash\n",
    "  }\n",
    "}\n",
    "\"\"\"\n",
    ")\n",
    "\n",
    "params = {\n",
    "        \"sendingChainId\": 137,\n",
    "        \"userId\": \"0x4752a32843b661fedc525c979aaa01fa54d31366\",\n",
    "        \"status\": \"Fulfilled\"\n",
    "    }"
   ]
  },
  {
   "cell_type": "code",
   "execution_count": 19,
   "id": "e881c99f",
   "metadata": {
    "code_folding": [
     7
    ],
    "hidden": true,
    "scrolled": true
   },
   "outputs": [],
   "source": [
    "query = gql(\n",
    "    \"\"\"\n",
    "query fetchAllTransactions($batch: Int!) {\n",
    "  transactions (\n",
    "    first:1000, skip: $batch,\n",
    "    orderBy: preparedBlockNumber\n",
    "    orderDirection: asc\n",
    "  ){\n",
    "    id\n",
    "    status\n",
    "    chainId\n",
    "    preparedTimestamp\n",
    "    user {\n",
    "      id\n",
    "    }\n",
    "    router {\n",
    "      id\n",
    "    }\n",
    "    receivingChainTxManagerAddress\n",
    "    sendingAssetId\n",
    "    receivingAssetId\n",
    "    sendingChainFallback\n",
    "    receivingAddress\n",
    "    callTo\n",
    "    sendingChainId\n",
    "    receivingChainId\n",
    "    callDataHash\n",
    "    transactionId\n",
    "    amount\n",
    "    expiry\n",
    "    preparedBlockNumber\n",
    "    bidSignature\n",
    "    prepareCaller\n",
    "    fulfillCaller\n",
    "    cancelCaller\n",
    "    prepareTransactionHash\n",
    "    fulfillTransactionHash\n",
    "    cancelTransactionHash\n",
    "  }\n",
    "}\n",
    "\"\"\"\n",
    ")\n",
    "\n",
    "params = {\n",
    "        \"batch\": 0\n",
    "    }"
   ]
  },
  {
   "cell_type": "markdown",
   "id": "77e1bfa4",
   "metadata": {
    "heading_collapsed": true
   },
   "source": [
    "## Querying and Fetching data"
   ]
  },
  {
   "cell_type": "code",
   "execution_count": 20,
   "id": "f2244f38",
   "metadata": {
    "hidden": true
   },
   "outputs": [],
   "source": [
    "matic_txns = pd.DataFrame(columns=['amount', 'bidSignature', 'callDataHash', 'callTo', 'cancelCaller', 'cancelTransactionHash', 'chainId', 'expiry', 'fulfillCaller', 'fulfillTransactionHash', 'id', 'prepareCaller', 'prepareTransactionHash', 'preparedBlockNumber', 'preparedTimestamp', 'receivingAddress', 'receivingAssetId', 'receivingChainId', 'receivingChainTxManagerAddress', 'router', 'sendingAssetId', 'sendingChainFallback', 'sendingChainId', 'status', 'transactionId', 'user'])\n",
    "matic_transport = AIOHTTPTransport(url=\"https://api.thegraph.com/subgraphs/name/connext/nxtp-matic\")\n",
    "\n",
    "bsc_txns = pd.DataFrame(columns=['amount', 'bidSignature', 'callDataHash', 'callTo', 'cancelCaller', 'cancelTransactionHash', 'chainId', 'expiry', 'fulfillCaller', 'fulfillTransactionHash', 'id', 'prepareCaller', 'prepareTransactionHash', 'preparedBlockNumber', 'preparedTimestamp', 'receivingAddress', 'receivingAssetId', 'receivingChainId', 'receivingChainTxManagerAddress', 'router', 'sendingAssetId', 'sendingChainFallback', 'sendingChainId', 'status', 'transactionId', 'user'])\n",
    "bsc_transport = AIOHTTPTransport(url=\"https://api.thegraph.com/subgraphs/name/connext/nxtp-bsc\")\n",
    "\n",
    "xdai_txns = pd.DataFrame(columns=['amount', 'bidSignature', 'callDataHash', 'callTo', 'cancelCaller', 'cancelTransactionHash', 'chainId', 'expiry', 'fulfillCaller', 'fulfillTransactionHash', 'id', 'prepareCaller', 'prepareTransactionHash', 'preparedBlockNumber', 'preparedTimestamp', 'receivingAddress', 'receivingAssetId', 'receivingChainId', 'receivingChainTxManagerAddress', 'router', 'sendingAssetId', 'sendingChainFallback', 'sendingChainId', 'status', 'transactionId', 'user'])\n",
    "xdai_transport = AIOHTTPTransport(url=\"https://api.thegraph.com/subgraphs/name/connext/nxtp-xdai\")\n",
    "\n",
    "fantom_txns = pd.DataFrame(columns=['amount', 'bidSignature', 'callDataHash', 'callTo', 'cancelCaller', 'cancelTransactionHash', 'chainId', 'expiry', 'fulfillCaller', 'fulfillTransactionHash', 'id', 'prepareCaller', 'prepareTransactionHash', 'preparedBlockNumber', 'preparedTimestamp', 'receivingAddress', 'receivingAssetId', 'receivingChainId', 'receivingChainTxManagerAddress', 'router', 'sendingAssetId', 'sendingChainFallback', 'sendingChainId', 'status', 'transactionId', 'user'])\n",
    "fantom_transport = AIOHTTPTransport(url=\"https://api.thegraph.com/subgraphs/name/connext/nxtp-fantom\")"
   ]
  },
  {
   "cell_type": "code",
   "execution_count": 21,
   "id": "e7243957",
   "metadata": {
    "hidden": true
   },
   "outputs": [],
   "source": [
    "async def graph_query(query, params, transport, transactions):\n",
    "\n",
    "    # Using `async with` on the client will start a connection on the transport\n",
    "    # and provide a `session` variable to execute queries on this connection\n",
    "    async with Client(\n",
    "        transport=transport, fetch_schema_from_transport=True,\n",
    "    ) as session:\n",
    "\n",
    "        # Execute single query\n",
    "        for batch in range(42): #Just a random no. It has to be just > 6. \n",
    "            result = await session.execute(query, variable_values=params)\n",
    "            for tr in result[\"transactions\"]:\n",
    "                list_values = list(tr.values())\n",
    "                list_values[19] = list_values[19][\"id\"]\n",
    "                list_values[25] = list_values[25][\"id\"]\n",
    "                transactions.loc[len(transactions.index)] = list_values\n",
    "            if len(result[\"transactions\"]) < 1000:\n",
    "                break\n",
    "            params['batch']+=1000\n",
    "            print(params[\"batch\"], end=\"-\")\n",
    "        print(\"\")\n",
    "        return result"
   ]
  },
  {
   "cell_type": "code",
   "execution_count": 22,
   "id": "8c12bb81",
   "metadata": {
    "hidden": true,
    "scrolled": true
   },
   "outputs": [
    {
     "name": "stdout",
     "output_type": "stream",
     "text": [
      "1000-2000-3000-4000-\n",
      "1000-2000-3000-\n",
      "\n",
      "1000-\n"
     ]
    }
   ],
   "source": [
    "params[\"batch\"] = 0\n",
    "await graph_query(query, params, matic_transport, matic_txns)\n",
    "params[\"batch\"] = 0\n",
    "await graph_query(query, params, bsc_transport, bsc_txns)\n",
    "params[\"batch\"] = 0\n",
    "await graph_query(query, params, xdai_transport, xdai_txns)\n",
    "params[\"batch\"] = 0\n",
    "await graph_query(query, params, fantom_transport, fantom_txns)\n",
    "params[\"batch\"] = 0"
   ]
  },
  {
   "cell_type": "markdown",
   "id": "0a963504",
   "metadata": {
    "heading_collapsed": true,
    "hidden": true
   },
   "source": [
    "### Chain Stats"
   ]
  },
  {
   "cell_type": "code",
   "execution_count": 24,
   "id": "1bb14a9d",
   "metadata": {
    "hidden": true,
    "scrolled": false
   },
   "outputs": [
    {
     "data": {
      "text/plain": [
       "Fulfilled    2981\n",
       "Cancelled     174\n",
       "Prepared       20\n",
       "Name: status, dtype: int64"
      ]
     },
     "execution_count": 24,
     "metadata": {},
     "output_type": "execute_result"
    }
   ],
   "source": [
    "matic_txns[matic_txns.sendingChainId==\"137\"][\"status\"].value_counts()"
   ]
  },
  {
   "cell_type": "code",
   "execution_count": 25,
   "id": "20400fc3",
   "metadata": {
    "hidden": true,
    "scrolled": false
   },
   "outputs": [
    {
     "data": {
      "text/plain": [
       "Fulfilled    1106\n",
       "Cancelled     183\n",
       "Prepared       47\n",
       "Name: status, dtype: int64"
      ]
     },
     "execution_count": 25,
     "metadata": {},
     "output_type": "execute_result"
    }
   ],
   "source": [
    "bsc_txns[bsc_txns.sendingChainId==\"56\"][\"status\"].value_counts()"
   ]
  },
  {
   "cell_type": "code",
   "execution_count": 26,
   "id": "992036eb",
   "metadata": {
    "hidden": true,
    "scrolled": false
   },
   "outputs": [
    {
     "data": {
      "text/plain": [
       "(325, 26)"
      ]
     },
     "execution_count": 26,
     "metadata": {},
     "output_type": "execute_result"
    }
   ],
   "source": [
    "xdai_txns[xdai_txns.sendingChainId==\"100\"].shape"
   ]
  },
  {
   "cell_type": "code",
   "execution_count": 27,
   "id": "c3232ec0",
   "metadata": {
    "hidden": true,
    "scrolled": true
   },
   "outputs": [
    {
     "data": {
      "text/plain": [
       "(334, 26)"
      ]
     },
     "execution_count": 27,
     "metadata": {},
     "output_type": "execute_result"
    }
   ],
   "source": [
    "fantom_txns[fantom_txns.sendingChainId==\"250\"].shape"
   ]
  },
  {
   "cell_type": "markdown",
   "id": "97e6bba3",
   "metadata": {},
   "source": [
    "# Analysing data"
   ]
  },
  {
   "cell_type": "markdown",
   "id": "5370cdd3",
   "metadata": {},
   "source": [
    "## Data Cleaning"
   ]
  },
  {
   "cell_type": "markdown",
   "id": "43bcb56b",
   "metadata": {
    "heading_collapsed": true
   },
   "source": [
    "### Combining all data"
   ]
  },
  {
   "cell_type": "code",
   "execution_count": 67,
   "id": "b22f5f78",
   "metadata": {
    "code_folding": [
     1,
     27,
     53,
     79,
     105
    ],
    "hidden": true
   },
   "outputs": [],
   "source": [
    "chain_asset_data = {\n",
    "   \"Ethereum\":{\n",
    "      \"0x0000000000000000000000000000000000000000\":{\n",
    "         \"token\":\"ETH\",\n",
    "         \"decimals\":18\n",
    "      },\n",
    "      \"0x7d1afa7b718fb893db30a3abc0cfc608aacfebb0\":{\n",
    "         \"token\":\"MATIC\",\n",
    "         \"decimals\":18\n",
    "      },\n",
    "      \"0xb8c77482e45f1f44de1745f52c74426c631bdd52\":{\n",
    "         \"token\":\"BNB\",\n",
    "         \"decimals\":18\n",
    "      },\n",
    "      \"0x6b175474e89094c44da98b954eedeac495271d0f\":{\n",
    "         \"token\":\"DAI\",\n",
    "         \"decimals\":18\n",
    "      },\n",
    "      \"0xa0b86991c6218b36c1d19d4a2e9eb0ce3606eb48\":{\n",
    "         \"token\":\"USDC\",\n",
    "         \"decimals\":6\n",
    "      },\n",
    "      \"0xdac17f958d2ee523a2206206994597c13d831ec7\":{\n",
    "         \"token\":\"USDT\",\n",
    "         \"decimals\":6\n",
    "      }\n",
    "   },\n",
    "   \"BSC\":{\n",
    "      \"0x2170ed0880ac9a755fd29b2688956bd959f933f8\":{\n",
    "         \"token\":\"ETH\",\n",
    "         \"decimals\":18\n",
    "      },\n",
    "      \"0xcc42724c6683b7e57334c4e856f4c9965ed682bd\":{\n",
    "         \"token\":\"MATIC\",\n",
    "         \"decimals\":18\n",
    "      },\n",
    "      \"0x0000000000000000000000000000000000000000\":{\n",
    "         \"token\":\"BNB\",\n",
    "         \"decimals\":18\n",
    "      },\n",
    "      \"0x1af3f329e8be154074d8769d1ffa4ee058b1dbc3\":{\n",
    "         \"token\":\"DAI\",\n",
    "         \"decimals\":18\n",
    "      },\n",
    "      \"0x8ac76a51cc950d9822d68b83fe1ad97b32cd580d\":{\n",
    "         \"token\":\"USDC\",\n",
    "         \"decimals\":18\n",
    "      },\n",
    "      \"0x55d398326f99059ff775485246999027b3197955\":{\n",
    "         \"token\":\"USDT\",\n",
    "         \"decimals\":18\n",
    "      }\n",
    "   },\n",
    "   \"Polygon\":{\n",
    "      \"0xfd8ee443ab7be5b1522a1c020c097cff1ddc1209\":{\n",
    "         \"token\":\"ETH\",\n",
    "         \"decimals\":18\n",
    "      },\n",
    "      \"0x0000000000000000000000000000000000000000\":{\n",
    "         \"token\":\"MATIC\",\n",
    "         \"decimals\":18\n",
    "      },\n",
    "      \"0xa649325aa7c5093d12d6f98eb4378deae68ce23f\":{\n",
    "         \"token\":\"BNB\",\n",
    "         \"decimals\":18\n",
    "      },\n",
    "      \"0x8f3cf7ad23cd3cadbd9735aff958023239c6a063\":{\n",
    "         \"token\":\"DAI\",\n",
    "         \"decimals\":18\n",
    "      },\n",
    "      \"0x2791bca1f2de4661ed88a30c99a7a9449aa84174\":{\n",
    "         \"token\":\"USDC\",\n",
    "         \"decimals\":6\n",
    "      },\n",
    "      \"0xc2132d05d31c914a87c6611c10748aeb04b58e8f\":{\n",
    "         \"token\":\"USDT\",\n",
    "         \"decimals\":6\n",
    "      }\n",
    "   },\n",
    "   \"xDai\":{\n",
    "      \"0xa5c7cb68cd81640d40c85b2e5ec9e4bb55be0214\":{\n",
    "         \"token\":\"ETH\",\n",
    "         \"decimals\":18\n",
    "      },\n",
    "      \"0x7122d7661c4564b7c6cd4878b06766489a6028a2\":{\n",
    "         \"token\":\"MATIC\",\n",
    "         \"decimals\":18\n",
    "      },\n",
    "      \"0xca8d20f3e0144a72c6b5d576e9bd3fd8557e2b04\":{\n",
    "         \"token\":\"BNB\",\n",
    "         \"decimals\":18\n",
    "      },\n",
    "      \"0x0000000000000000000000000000000000000000\":{\n",
    "         \"token\":\"DAI\",\n",
    "         \"decimals\":18\n",
    "      },\n",
    "      \"0xddafbb505ad214d7b80b1f830fccc89b60fb7a83\":{\n",
    "         \"token\":\"USDC\",\n",
    "         \"decimals\":6\n",
    "      },\n",
    "      \"0x4ecaba5870353805a9f068101a40e0f32ed605c6\":{\n",
    "         \"token\":\"USDT\",\n",
    "         \"decimals\":6\n",
    "      }\n",
    "   },\n",
    "   \"Fantom\":{\n",
    "      \"0x658b0c7613e890ee50b8c4bc6a3f41ef411208ad\":{\n",
    "         \"token\":\"ETH\",\n",
    "         \"decimals\":18\n",
    "      },\n",
    "      \"0x8d11ec38a3eb5e956b052f67da8bdc9bef8abf3e\":{\n",
    "         \"token\":\"DAI\",\n",
    "         \"decimals\":18\n",
    "      },\n",
    "      \"0x04068da6c83afcfa0e13ba15a6696662335d5b75\":{\n",
    "         \"token\":\"USDC\",\n",
    "         \"decimals\":6\n",
    "      },\n",
    "      \"0x049d68029688eabf473097a2fc38ef61633a3c7a\":{\n",
    "         \"token\":\"USDT\",\n",
    "         \"decimals\":6\n",
    "      }\n",
    "   }\n",
    "}"
   ]
  },
  {
   "cell_type": "code",
   "execution_count": 68,
   "id": "721c9e52",
   "metadata": {
    "hidden": true
   },
   "outputs": [],
   "source": [
    "matic_txns[\"chain\"] = \"Polygon\"\n",
    "\n",
    "bsc_txns[\"chain\"] = \"BSC\"\n",
    "\n",
    "xdai_txns[\"chain\"] = \"xDai\"\n",
    "\n",
    "fantom_txns[\"chain\"] = \"Fantom\""
   ]
  },
  {
   "cell_type": "code",
   "execution_count": 87,
   "id": "173cb8d7",
   "metadata": {
    "hidden": true
   },
   "outputs": [],
   "source": [
    "two_sided_txns = pd.concat([matic_txns,bsc_txns,xdai_txns,fantom_txns])"
   ]
  },
  {
   "cell_type": "code",
   "execution_count": 98,
   "id": "91060bd3",
   "metadata": {
    "hidden": true,
    "scrolled": true
   },
   "outputs": [
    {
     "data": {
      "text/plain": [
       "(10258, 27)"
      ]
     },
     "execution_count": 98,
     "metadata": {},
     "output_type": "execute_result"
    }
   ],
   "source": [
    "two_sided_txns.shape"
   ]
  },
  {
   "cell_type": "code",
   "execution_count": 114,
   "id": "098830f4",
   "metadata": {
    "hidden": true,
    "scrolled": true
   },
   "outputs": [],
   "source": [
    "two_sided_txns[\"txn_type\"] = two_sided_txns.apply(lambda x: \"single\" if x[\"sendingChainId\"] == x[\"chainId\"] else \"repeat\", axis=1)"
   ]
  },
  {
   "cell_type": "code",
   "execution_count": 125,
   "id": "75f52ff6",
   "metadata": {
    "hidden": true
   },
   "outputs": [],
   "source": [
    "one_sided_txns = two_sided_txns[two_sided_txns[\"txn_type\"]==\"single\"].copy(deep=True)"
   ]
  },
  {
   "cell_type": "code",
   "execution_count": 126,
   "id": "cc7f2b63",
   "metadata": {
    "hidden": true,
    "scrolled": true
   },
   "outputs": [
    {
     "data": {
      "text/plain": [
       "(5170, 29)"
      ]
     },
     "execution_count": 126,
     "metadata": {},
     "output_type": "execute_result"
    }
   ],
   "source": [
    "one_sided_txns.shape"
   ]
  },
  {
   "cell_type": "markdown",
   "id": "0c09800d",
   "metadata": {
    "heading_collapsed": true
   },
   "source": [
    "### Asset Movement"
   ]
  },
  {
   "cell_type": "code",
   "execution_count": 118,
   "id": "e1b3618d",
   "metadata": {
    "hidden": true,
    "scrolled": false
   },
   "outputs": [],
   "source": [
    "chain_mapping = {\"56\": \"BSC\", \"137\": \"Polygon\", \"250\": \"Fantom\", \"100\": \"xDai\"}"
   ]
  },
  {
   "cell_type": "code",
   "execution_count": 119,
   "id": "294cffe4",
   "metadata": {
    "hidden": true
   },
   "outputs": [],
   "source": [
    "def transacting_chains(row):\n",
    "    val = chain_mapping[row[\"sendingChainId\"]] + \" -> \" + chain_mapping[row[\"receivingChainId\"]]\n",
    "    return val"
   ]
  },
  {
   "cell_type": "code",
   "execution_count": 127,
   "id": "e7662581",
   "metadata": {
    "hidden": true,
    "scrolled": true
   },
   "outputs": [
    {
     "data": {
      "text/plain": [
       "Polygon -> BSC       2161\n",
       "BSC -> Polygon       1076\n",
       "Polygon -> Fantom     763\n",
       "Polygon -> xDai       251\n",
       "BSC -> Fantom         213\n",
       "xDai -> Polygon       210\n",
       "Fantom -> Polygon     191\n",
       "Fantom -> BSC         114\n",
       "xDai -> Fantom         60\n",
       "xDai -> BSC            55\n",
       "BSC -> xDai            47\n",
       "Fantom -> xDai         29\n",
       "Name: asset_movement, dtype: int64"
      ]
     },
     "execution_count": 127,
     "metadata": {},
     "output_type": "execute_result"
    }
   ],
   "source": [
    "one_sided_txns['asset_movement'] = one_sided_txns.apply(transacting_chains, axis=1)\n",
    "one_sided_txns['asset_movement'].value_counts()"
   ]
  },
  {
   "cell_type": "code",
   "execution_count": 128,
   "id": "d2a0f7ff",
   "metadata": {
    "hidden": true,
    "scrolled": true
   },
   "outputs": [
    {
     "data": {
      "text/plain": [
       "Polygon -> BSC       2044\n",
       "BSC -> Polygon        892\n",
       "Polygon -> Fantom     690\n",
       "Polygon -> xDai       247\n",
       "xDai -> Polygon       199\n",
       "Fantom -> Polygon     170\n",
       "BSC -> Fantom         167\n",
       "Fantom -> BSC         110\n",
       "xDai -> Fantom         57\n",
       "xDai -> BSC            54\n",
       "BSC -> xDai            47\n",
       "Fantom -> xDai         28\n",
       "Name: asset_movement, dtype: int64"
      ]
     },
     "execution_count": 128,
     "metadata": {},
     "output_type": "execute_result"
    }
   ],
   "source": [
    "one_sided_txns[one_sided_txns[\"status\"]==\"Fulfilled\"]['asset_movement'].value_counts()"
   ]
  },
  {
   "cell_type": "code",
   "execution_count": 97,
   "id": "107031a2",
   "metadata": {
    "hidden": true,
    "scrolled": false
   },
   "outputs": [
    {
     "data": {
      "text/plain": [
       "4705"
      ]
     },
     "execution_count": 97,
     "metadata": {},
     "output_type": "execute_result"
    }
   ],
   "source": [
    "one_sided_txns[one_sided_txns[\"status\"]==\"Fulfilled\"]['asset_movement'].count()"
   ]
  },
  {
   "cell_type": "markdown",
   "id": "a82ad9c2",
   "metadata": {},
   "source": [
    "### Mapping Assets to Txns"
   ]
  },
  {
   "cell_type": "code",
   "execution_count": 143,
   "id": "0a7c4848",
   "metadata": {},
   "outputs": [],
   "source": [
    "def asset_token_mapper(row):\n",
    "    chain_asset_dict = chain_asset_data[row[\"chain\"]]\n",
    "    asset = chain_asset_dict[row[\"sendingAssetId\"]]\n",
    "    return asset[\"token\"]"
   ]
  },
  {
   "cell_type": "code",
   "execution_count": 145,
   "id": "7d236cba",
   "metadata": {},
   "outputs": [],
   "source": [
    "def asset_decimal_mapper(row):\n",
    "    chain_asset_dict = chain_asset_data[row[\"chain\"]]\n",
    "    asset = chain_asset_dict[row[\"sendingAssetId\"]]\n",
    "    return asset[\"decimals\"]"
   ]
  },
  {
   "cell_type": "code",
   "execution_count": 150,
   "id": "161ba66e",
   "metadata": {},
   "outputs": [
    {
     "data": {
      "text/plain": [
       "100000"
      ]
     },
     "execution_count": 150,
     "metadata": {},
     "output_type": "execute_result"
    }
   ],
   "source": [
    "10**5"
   ]
  },
  {
   "cell_type": "code",
   "execution_count": 163,
   "id": "f2dc4750",
   "metadata": {},
   "outputs": [],
   "source": [
    "def dollar_amount(row):\n",
    "    dollar_value = int(row[\"amount\"]) / 10**row[\"decimals\"]\n",
    "    return dollar_value"
   ]
  },
  {
   "cell_type": "code",
   "execution_count": 166,
   "id": "877e7c95",
   "metadata": {
    "scrolled": true
   },
   "outputs": [
    {
     "name": "stdout",
     "output_type": "stream",
     "text": [
      "6,1000000 = 1.0\n",
      "6,1000000 = 1.0\n",
      "6,1000000 = 1.0\n",
      "6,100000000 = 100.0\n",
      "6,10000 = 0.01\n",
      "6,10000000 = 10.0\n",
      "6,20000 = 0.02\n"
     ]
    }
   ],
   "source": [
    "for row in one_sided_txns.iterrows():\n",
    "    print(row[1][\"decimals\"], end=\",\")\n",
    "    print(row[1][\"amount\"], end=\" = \")\n",
    "    print(dollar_amount(row[1]))\n",
    "    if row[0] == 12:\n",
    "        break"
   ]
  },
  {
   "cell_type": "code",
   "execution_count": 147,
   "id": "5d0c4249",
   "metadata": {
    "scrolled": true
   },
   "outputs": [],
   "source": [
    "one_sided_txns[\"asset_token\"] = one_sided_txns.apply(asset_token_mapper, axis=1)"
   ]
  },
  {
   "cell_type": "code",
   "execution_count": 148,
   "id": "c10e22cd",
   "metadata": {
    "scrolled": true
   },
   "outputs": [],
   "source": [
    "one_sided_txns[\"decimals\"] = one_sided_txns.apply(asset_decimal_mapper, axis=1)"
   ]
  },
  {
   "cell_type": "code",
   "execution_count": 167,
   "id": "5dd719f7",
   "metadata": {
    "scrolled": true
   },
   "outputs": [],
   "source": [
    "one_sided_txns[\"dollar_amount\"] = one_sided_txns.apply(dollar_amount, axis=1)"
   ]
  },
  {
   "cell_type": "code",
   "execution_count": 168,
   "id": "cae4f844",
   "metadata": {
    "scrolled": false
   },
   "outputs": [
    {
     "data": {
      "text/plain": [
       "6490842.980980501"
      ]
     },
     "execution_count": 168,
     "metadata": {},
     "output_type": "execute_result"
    }
   ],
   "source": [
    "one_sided_txns.dollar_amount.sum()"
   ]
  },
  {
   "cell_type": "code",
   "execution_count": 216,
   "id": "d3c18c41",
   "metadata": {},
   "outputs": [
    {
     "data": {
      "text/plain": [
       "5767142.284557633"
      ]
     },
     "execution_count": 216,
     "metadata": {},
     "output_type": "execute_result"
    }
   ],
   "source": [
    "one_sided_txns[one_sided_txns['status']==\"Fulfilled\"][\"dollar_amount\"].sum()"
   ]
  },
  {
   "cell_type": "code",
   "execution_count": 219,
   "id": "33d36d65",
   "metadata": {
    "scrolled": true
   },
   "outputs": [
    {
     "data": {
      "text/html": [
       "<div>\n",
       "<style scoped>\n",
       "    .dataframe tbody tr th:only-of-type {\n",
       "        vertical-align: middle;\n",
       "    }\n",
       "\n",
       "    .dataframe tbody tr th {\n",
       "        vertical-align: top;\n",
       "    }\n",
       "\n",
       "    .dataframe thead th {\n",
       "        text-align: right;\n",
       "    }\n",
       "</style>\n",
       "<table border=\"1\" class=\"dataframe\">\n",
       "  <thead>\n",
       "    <tr style=\"text-align: right;\">\n",
       "      <th></th>\n",
       "      <th>decimals</th>\n",
       "      <th>dollar_amount</th>\n",
       "    </tr>\n",
       "    <tr>\n",
       "      <th>receivingChainId</th>\n",
       "      <th></th>\n",
       "      <th></th>\n",
       "    </tr>\n",
       "  </thead>\n",
       "  <tbody>\n",
       "    <tr>\n",
       "      <th>100</th>\n",
       "      <td>4392</td>\n",
       "      <td>1.667718e+05</td>\n",
       "    </tr>\n",
       "    <tr>\n",
       "      <th>137</th>\n",
       "      <td>20118</td>\n",
       "      <td>2.468027e+06</td>\n",
       "    </tr>\n",
       "    <tr>\n",
       "      <th>250</th>\n",
       "      <td>10020</td>\n",
       "      <td>1.564222e+06</td>\n",
       "    </tr>\n",
       "    <tr>\n",
       "      <th>56</th>\n",
       "      <td>15828</td>\n",
       "      <td>1.568122e+06</td>\n",
       "    </tr>\n",
       "  </tbody>\n",
       "</table>\n",
       "</div>"
      ],
      "text/plain": [
       "                  decimals  dollar_amount\n",
       "receivingChainId                         \n",
       "100                   4392   1.667718e+05\n",
       "137                  20118   2.468027e+06\n",
       "250                  10020   1.564222e+06\n",
       "56                   15828   1.568122e+06"
      ]
     },
     "execution_count": 219,
     "metadata": {},
     "output_type": "execute_result"
    }
   ],
   "source": [
    "x = one_sided_txns[one_sided_txns['status']==\"Fulfilled\"].groupby(\"receivingChainId\", axis=0).sum()\n",
    "x"
   ]
  },
  {
   "cell_type": "code",
   "execution_count": 220,
   "id": "f2b2fbe3",
   "metadata": {
    "scrolled": true
   },
   "outputs": [
    {
     "name": "stdout",
     "output_type": "stream",
     "text": [
      "100 = 166771.80522999287\n",
      "137 = 2468026.8525046837\n",
      "250 = 1564221.643998964\n",
      "56 = 1568121.9828239896\n"
     ]
    }
   ],
   "source": [
    "for row in x.iterrows():\n",
    "    print(row[0], end=\" = \")\n",
    "    print(row[1][1])"
   ]
  },
  {
   "cell_type": "code",
   "execution_count": 218,
   "id": "b3689c4d",
   "metadata": {
    "scrolled": true
   },
   "outputs": [
    {
     "name": "stdout",
     "output_type": "stream",
     "text": [
      "BSC = 1585771.223553348\n",
      "Fantom = 1246014.0917421093\n",
      "Polygon = 2763072.4851431698\n",
      "xDai = 172284.48411900012\n"
     ]
    }
   ],
   "source": [
    "for row in x.iterrows():\n",
    "    print(row[0], end=\" = \")\n",
    "    print(row[1][1])"
   ]
  },
  {
   "cell_type": "code",
   "execution_count": 176,
   "id": "e6b00bfc",
   "metadata": {
    "scrolled": false
   },
   "outputs": [
    {
     "data": {
      "text/plain": [
       "Index(['amount', 'bidSignature', 'callDataHash', 'callTo', 'cancelCaller',\n",
       "       'cancelTransactionHash', 'chainId', 'expiry', 'fulfillCaller',\n",
       "       'fulfillTransactionHash', 'id', 'prepareCaller',\n",
       "       'prepareTransactionHash', 'preparedBlockNumber', 'preparedTimestamp',\n",
       "       'receivingAddress', 'receivingAssetId', 'receivingChainId',\n",
       "       'receivingChainTxManagerAddress', 'router', 'sendingAssetId',\n",
       "       'sendingChainFallback', 'sendingChainId', 'status', 'transactionId',\n",
       "       'user', 'chain', 'txn_type', 'asset_movement', 'asset_token',\n",
       "       'decimals', 'dollar_amount'],\n",
       "      dtype='object')"
      ]
     },
     "execution_count": 176,
     "metadata": {},
     "output_type": "execute_result"
    }
   ],
   "source": [
    "one_sided_txns.columns"
   ]
  },
  {
   "cell_type": "code",
   "execution_count": 187,
   "id": "5b4679f2",
   "metadata": {
    "scrolled": true
   },
   "outputs": [
    {
     "data": {
      "text/plain": [
       "array(['0xf24169c8557f87f3b0ad7ede8218a9a0551a72c43751fbd75130e5fe1bc247ed'],\n",
       "      dtype=object)"
      ]
     },
     "execution_count": 187,
     "metadata": {},
     "output_type": "execute_result"
    }
   ],
   "source": [
    "one_sided_txns[one_sided_txns.dollar_amount==100685.0][\"transactionId\"].values"
   ]
  },
  {
   "cell_type": "code",
   "execution_count": 183,
   "id": "7a413e27",
   "metadata": {
    "scrolled": true
   },
   "outputs": [
    {
     "data": {
      "text/plain": [
       "array(['Fantom -> Polygon'], dtype=object)"
      ]
     },
     "execution_count": 183,
     "metadata": {},
     "output_type": "execute_result"
    }
   ],
   "source": [
    "one_sided_txns[one_sided_txns.dollar_amount==100685.0][\"asset_movement\"].values"
   ]
  },
  {
   "cell_type": "code",
   "execution_count": 186,
   "id": "0b322b8f",
   "metadata": {
    "scrolled": true
   },
   "outputs": [
    {
     "data": {
      "text/plain": [
       "array(['0xcf664975c10de3a0e3781493d5b8c2d7ca32ee5d4880269458ad8be92705355b'],\n",
       "      dtype=object)"
      ]
     },
     "execution_count": 186,
     "metadata": {},
     "output_type": "execute_result"
    }
   ],
   "source": [
    "one_sided_txns[one_sided_txns.dollar_amount==100685.0][\"fulfillTransactionHash\"].values"
   ]
  },
  {
   "cell_type": "code",
   "execution_count": 185,
   "id": "6aed262e",
   "metadata": {
    "scrolled": true
   },
   "outputs": [
    {
     "data": {
      "text/html": [
       "<div>\n",
       "<style scoped>\n",
       "    .dataframe tbody tr th:only-of-type {\n",
       "        vertical-align: middle;\n",
       "    }\n",
       "\n",
       "    .dataframe tbody tr th {\n",
       "        vertical-align: top;\n",
       "    }\n",
       "\n",
       "    .dataframe thead th {\n",
       "        text-align: right;\n",
       "    }\n",
       "</style>\n",
       "<table border=\"1\" class=\"dataframe\">\n",
       "  <thead>\n",
       "    <tr style=\"text-align: right;\">\n",
       "      <th></th>\n",
       "      <th>amount</th>\n",
       "      <th>bidSignature</th>\n",
       "      <th>callDataHash</th>\n",
       "      <th>callTo</th>\n",
       "      <th>cancelCaller</th>\n",
       "      <th>cancelTransactionHash</th>\n",
       "      <th>chainId</th>\n",
       "      <th>expiry</th>\n",
       "      <th>fulfillCaller</th>\n",
       "      <th>fulfillTransactionHash</th>\n",
       "      <th>id</th>\n",
       "      <th>prepareCaller</th>\n",
       "      <th>prepareTransactionHash</th>\n",
       "      <th>preparedBlockNumber</th>\n",
       "      <th>preparedTimestamp</th>\n",
       "      <th>receivingAddress</th>\n",
       "      <th>receivingAssetId</th>\n",
       "      <th>receivingChainId</th>\n",
       "      <th>receivingChainTxManagerAddress</th>\n",
       "      <th>router</th>\n",
       "      <th>sendingAssetId</th>\n",
       "      <th>sendingChainFallback</th>\n",
       "      <th>sendingChainId</th>\n",
       "      <th>status</th>\n",
       "      <th>transactionId</th>\n",
       "      <th>user</th>\n",
       "      <th>chain</th>\n",
       "      <th>txn_type</th>\n",
       "      <th>asset_movement</th>\n",
       "      <th>asset_token</th>\n",
       "      <th>decimals</th>\n",
       "      <th>dollar_amount</th>\n",
       "    </tr>\n",
       "  </thead>\n",
       "  <tbody>\n",
       "    <tr>\n",
       "      <th>156</th>\n",
       "      <td>100685000000</td>\n",
       "      <td>0x566d01c81fe7257d081568fada815d5d6e708cebc8ed...</td>\n",
       "      <td>0xc5d2460186f7233c927e7db2dcc703c0e500b653ca82...</td>\n",
       "      <td>0x0000000000000000000000000000000000000000</td>\n",
       "      <td>None</td>\n",
       "      <td>None</td>\n",
       "      <td>250</td>\n",
       "      <td>1630877968</td>\n",
       "      <td>0xe1dd7b28ab085978ead65aff92b22b6322a96422</td>\n",
       "      <td>0xcf664975c10de3a0e3781493d5b8c2d7ca32ee5d4880...</td>\n",
       "      <td>0xf24169c8557f87f3b0ad7ede8218a9a0551a72c43751...</td>\n",
       "      <td>0xf7f0cfc3772d29d4cc1482a2acb7be16a85a2223</td>\n",
       "      <td>0xf2533ae556052fa4357bfc0e314412f411e44aa4f40b...</td>\n",
       "      <td>16187471</td>\n",
       "      <td>1630618824</td>\n",
       "      <td>0xf7f0cfc3772d29d4cc1482a2acb7be16a85a2223</td>\n",
       "      <td>0xc2132d05d31c914a87c6611c10748aeb04b58e8f</td>\n",
       "      <td>137</td>\n",
       "      <td>0x31efc4aeaa7c39e54a33fdc3c46ee2bd70ae0a09</td>\n",
       "      <td>0xe1dd7b28ab085978ead65aff92b22b6322a96422</td>\n",
       "      <td>0x049d68029688eabf473097a2fc38ef61633a3c7a</td>\n",
       "      <td>0xf7f0cfc3772d29d4cc1482a2acb7be16a85a2223</td>\n",
       "      <td>250</td>\n",
       "      <td>Fulfilled</td>\n",
       "      <td>0xf24169c8557f87f3b0ad7ede8218a9a0551a72c43751...</td>\n",
       "      <td>0xf7f0cfc3772d29d4cc1482a2acb7be16a85a2223</td>\n",
       "      <td>Fantom</td>\n",
       "      <td>single</td>\n",
       "      <td>Fantom -&gt; Polygon</td>\n",
       "      <td>USDT</td>\n",
       "      <td>6</td>\n",
       "      <td>100685.0</td>\n",
       "    </tr>\n",
       "  </tbody>\n",
       "</table>\n",
       "</div>"
      ],
      "text/plain": [
       "           amount                                       bidSignature  \\\n",
       "156  100685000000  0x566d01c81fe7257d081568fada815d5d6e708cebc8ed...   \n",
       "\n",
       "                                          callDataHash  \\\n",
       "156  0xc5d2460186f7233c927e7db2dcc703c0e500b653ca82...   \n",
       "\n",
       "                                         callTo cancelCaller  \\\n",
       "156  0x0000000000000000000000000000000000000000         None   \n",
       "\n",
       "    cancelTransactionHash chainId      expiry  \\\n",
       "156                  None     250  1630877968   \n",
       "\n",
       "                                  fulfillCaller  \\\n",
       "156  0xe1dd7b28ab085978ead65aff92b22b6322a96422   \n",
       "\n",
       "                                fulfillTransactionHash  \\\n",
       "156  0xcf664975c10de3a0e3781493d5b8c2d7ca32ee5d4880...   \n",
       "\n",
       "                                                    id  \\\n",
       "156  0xf24169c8557f87f3b0ad7ede8218a9a0551a72c43751...   \n",
       "\n",
       "                                  prepareCaller  \\\n",
       "156  0xf7f0cfc3772d29d4cc1482a2acb7be16a85a2223   \n",
       "\n",
       "                                prepareTransactionHash preparedBlockNumber  \\\n",
       "156  0xf2533ae556052fa4357bfc0e314412f411e44aa4f40b...            16187471   \n",
       "\n",
       "    preparedTimestamp                            receivingAddress  \\\n",
       "156        1630618824  0xf7f0cfc3772d29d4cc1482a2acb7be16a85a2223   \n",
       "\n",
       "                               receivingAssetId receivingChainId  \\\n",
       "156  0xc2132d05d31c914a87c6611c10748aeb04b58e8f              137   \n",
       "\n",
       "                 receivingChainTxManagerAddress  \\\n",
       "156  0x31efc4aeaa7c39e54a33fdc3c46ee2bd70ae0a09   \n",
       "\n",
       "                                         router  \\\n",
       "156  0xe1dd7b28ab085978ead65aff92b22b6322a96422   \n",
       "\n",
       "                                 sendingAssetId  \\\n",
       "156  0x049d68029688eabf473097a2fc38ef61633a3c7a   \n",
       "\n",
       "                           sendingChainFallback sendingChainId     status  \\\n",
       "156  0xf7f0cfc3772d29d4cc1482a2acb7be16a85a2223            250  Fulfilled   \n",
       "\n",
       "                                         transactionId  \\\n",
       "156  0xf24169c8557f87f3b0ad7ede8218a9a0551a72c43751...   \n",
       "\n",
       "                                           user   chain txn_type  \\\n",
       "156  0xf7f0cfc3772d29d4cc1482a2acb7be16a85a2223  Fantom   single   \n",
       "\n",
       "        asset_movement asset_token  decimals  dollar_amount  \n",
       "156  Fantom -> Polygon        USDT         6       100685.0  "
      ]
     },
     "execution_count": 185,
     "metadata": {},
     "output_type": "execute_result"
    }
   ],
   "source": [
    "one_sided_txns[one_sided_txns.dollar_amount==100685.0]"
   ]
  },
  {
   "cell_type": "code",
   "execution_count": null,
   "id": "15590cf4",
   "metadata": {},
   "outputs": [],
   "source": []
  }
 ],
 "metadata": {
  "kernelspec": {
   "display_name": "Python 3",
   "language": "python",
   "name": "python3"
  },
  "language_info": {
   "codemirror_mode": {
    "name": "ipython",
    "version": 3
   },
   "file_extension": ".py",
   "mimetype": "text/x-python",
   "name": "python",
   "nbconvert_exporter": "python",
   "pygments_lexer": "ipython3",
   "version": "3.8.10"
  }
 },
 "nbformat": 4,
 "nbformat_minor": 5
}
